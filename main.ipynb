{
 "cells": [
  {
   "cell_type": "markdown",
   "id": "89d04c91-ef5c-4a7a-8e56-f4978e002f25",
   "metadata": {},
   "source": [
    "<h1>Desafio Tecnico</h1>"
   ]
  },
  {
   "cell_type": "markdown",
   "id": "526ffd68-2f6d-4840-be1c-bf7cdf69468d",
   "metadata": {},
   "source": [
    "<h2>1. Programatico</h2>"
   ]
  },
  {
   "cell_type": "markdown",
   "id": "c7841b48-3722-491e-983d-4fb53d977d58",
   "metadata": {},
   "source": [
    "<p>Importo las bilbiotecas que use a lo largo del challenge. Como estoy usando Anaconda deberian importar el archivo rocking.yml que va a tener las variables de entorno que use.</p>"
   ]
  },
  {
   "cell_type": "code",
   "execution_count": 1,
   "id": "508cd605-b7d2-4712-8ae1-f47a8721a544",
   "metadata": {},
   "outputs": [],
   "source": [
    "import boto3\n",
    "import os\n",
    "import pandas as pd\n",
    "import matplotlib.pyplot as plt\n",
    "import seaborn as sns\n",
    "import sqlite3"
   ]
  },
  {
   "cell_type": "markdown",
   "id": "c5076796-91b0-4e45-a0f1-2c911daf5457",
   "metadata": {},
   "source": [
    "<h3>Postman</h3>"
   ]
  },
  {
   "cell_type": "markdown",
   "id": "eaaee547-fd49-49f4-9cb2-1e3b00f8a594",
   "metadata": {},
   "source": [
    "<p>Basicamente aca muestro lo que devuelve el endpoint porque no voy a poder mostar como funciona la funcion extraer</p>"
   ]
  },
  {
   "cell_type": "markdown",
   "id": "199fcff0-41e9-46a0-bb64-bbc9761ad334",
   "metadata": {},
   "source": [
    "<img src='fotos/Postman.png'>"
   ]
  },
  {
   "cell_type": "markdown",
   "id": "f5ce4413-43f6-40f8-8df7-3f50017e8266",
   "metadata": {},
   "source": [
    "<h3>1- Programatico</h3>"
   ]
  },
  {
   "cell_type": "markdown",
   "id": "ae45d01a-1d4b-4bfc-b8fc-bc207e479707",
   "metadata": {},
   "source": [
    "<p>Funciono, ahora voy a importar varias bilbiotecas que voy a usar a lo largo del ejercicio</p>"
   ]
  },
  {
   "cell_type": "code",
   "execution_count": 2,
   "id": "ffb4b041-ea70-484c-b253-74e89ec4c7cc",
   "metadata": {},
   "outputs": [],
   "source": [
    "# import boto3\n",
    "# import os"
   ]
  },
  {
   "cell_type": "markdown",
   "id": "9afb909a-584e-4f04-a38c-441bc36d2209",
   "metadata": {},
   "source": [
    "<p>La idea es trabajar con variables de entorno para evitar hardcodear secretos.</p>"
   ]
  },
  {
   "cell_type": "code",
   "execution_count": 3,
   "id": "80f79464-241c-471f-af80-3112a1f101bd",
   "metadata": {},
   "outputs": [],
   "source": [
    "#pruebo las keys si estan funcionando\n",
    "KEY = os.environ.get('AWS_KEY_RKD')\n",
    "SECRET = os.environ.get('AWS_SECRET_RKD')"
   ]
  },
  {
   "cell_type": "markdown",
   "id": "45a36b7b-49df-4586-9590-1ab323fe3464",
   "metadata": {},
   "source": [
    "<p>Ahora voy a crear la funcion descargar</p>"
   ]
  },
  {
   "cell_type": "code",
   "execution_count": null,
   "id": "588eb27a-2975-42df-ae4e-7f5d0592e470",
   "metadata": {},
   "outputs": [],
   "source": [
    "#Recordar que los secret estan definidos como variables de entorno\n",
    "def descargar(bucket, key):\n",
    "    \"\"\"\n",
    "    Descarga un archivo desde el servicio AWS S3 usando boto3.\n",
    "\n",
    "    Parámetros:\n",
    "    - bucket: el nombre del bucket de S3 donde se encuentra el archivo.\n",
    "    - key: el identificador del archivo dentro del bucket.\n",
    "    - filename: el nombre del archivo local donde se guardará el archivo descargado.\n",
    "\n",
    "    Retorna:\n",
    "    - El nombre del archivo local si se ha descargado correctamente, o None en caso contrario.\n",
    "    \"\"\"\n",
    "    # Crear un cliente con las credenciales\n",
    "    s3 = boto3.client('s3', aws_access_key_id=KEY, aws_secret_access_key=SECRET)\n",
    "    # Intentar descargar el archivo desde el bucket y el key especificados\n",
    "    \n",
    "    # Creo el nombre del archivo local a partir del key\n",
    "    filename = os.path.basename(key)\n",
    "\n",
    "    #Verifico si el archivo ya existe y si es asi lo borro\n",
    "    if os.path.exists(filename):\n",
    "        os.remove(filename)\n",
    "    \n",
    "    try:\n",
    "        with open(filename, 'wb') as f:\n",
    "            s3.download_fileobj(bucket, key, f)\n",
    "            # Retorno el nombre del archivo descargado\n",
    "            print(f'Archivo {filename} descargado correctamente.')\n",
    "            return filename\n",
    "    except Exception as e:\n",
    "        # Mostrar un mensaje de error con la excepción ocurrida\n",
    "        print(f'Error al descargar el archivo: {e}')\n",
    "        # Retornar None si ocurre una excepción\n",
    "        return None"
   ]
  },
  {
   "cell_type": "code",
   "execution_count": null,
   "id": "9fcb9806-f225-4e0f-8f4a-8e4e67617c90",
   "metadata": {},
   "outputs": [],
   "source": [
    "#Aca genero la lista de keys que quiero descargar\n",
    "bucket = 'desafio-XXX'\n",
    "keys = ['disney_plus_titles.csv', 'netflix_titles.csv']"
   ]
  },
  {
   "cell_type": "code",
   "execution_count": null,
   "id": "2cf3a283-fc0c-42b8-906f-f0af4febbcad",
   "metadata": {},
   "outputs": [],
   "source": [
    "#* Descargar los archivos desde el bucket desafio-rkd (tener en cuenta que si se pasa un tercer \n",
    "# parametro se sigue pudiendo modificar el nombre del archivo).\n",
    "\n",
    "for key in keys:\n",
    "    descargar(bucket, key)"
   ]
  },
  {
   "cell_type": "markdown",
   "metadata": {},
   "source": [
    "<p>El output para esto en mi codigo original es esto, no quiero filtrar los secrets de la empresa por lo tanto no van a poder probar esta funcion<p>\n",
    "\n",
    "<img src='fotos/Output.png'>"
   ]
  },
  {
   "cell_type": "markdown",
   "id": "2a3e943d-c8d2-4f72-ad62-971e43071763",
   "metadata": {},
   "source": [
    "<h2>2. QA</h2>"
   ]
  },
  {
   "cell_type": "markdown",
   "id": "069fd0a7-1660-48ec-b278-a213dbcb0cd8",
   "metadata": {},
   "source": [
    "<p>Para esta parte voy a utilizar pandas, la idea es ver las dimensiones, explorar un poco los tipos de datos de las columnas, etc para identificar los problemas respecto a calidad de los datos</p>\n",
    "<p>Lo primero seria leer los csv que descargue previamente</p>"
   ]
  },
  {
   "cell_type": "code",
   "execution_count": null,
   "id": "3982ac66-d7d8-4bea-85c6-a162006c11bc",
   "metadata": {},
   "outputs": [],
   "source": [
    "# import pandas as pd"
   ]
  },
  {
   "cell_type": "markdown",
   "id": "2270b536-0a39-46c0-8b3d-bc4cf69546f7",
   "metadata": {},
   "source": [
    "<h3>Limpieza</h3>"
   ]
  },
  {
   "cell_type": "markdown",
   "id": "3e2e05e2-0576-4709-8eb5-a31b5ccbf623",
   "metadata": {},
   "source": [
    "<h4>Disney+</h4>"
   ]
  },
  {
   "cell_type": "code",
   "execution_count": null,
   "id": "e8477548-b7ab-4743-8034-4ca0ab917b10",
   "metadata": {},
   "outputs": [],
   "source": [
    "disney = pd.read_csv(\"disney_plus_titles.csv\", sep=\",\", on_bad_lines='warn', verbose=True)"
   ]
  },
  {
   "cell_type": "code",
   "execution_count": null,
   "id": "ba3df447-1e3a-44b4-9b52-bfabd45d38a8",
   "metadata": {},
   "outputs": [],
   "source": [
    "disney.count()"
   ]
  },
  {
   "cell_type": "code",
   "execution_count": null,
   "id": "f4d2a1c8-7954-4e65-8e5b-7277df476c01",
   "metadata": {},
   "outputs": [],
   "source": [
    "print(disney.info())"
   ]
  },
  {
   "cell_type": "code",
   "execution_count": null,
   "id": "eb13297d-8ded-4d48-8f93-6f3317c10cd1",
   "metadata": {
    "scrolled": true
   },
   "outputs": [],
   "source": [
    "print(disney.describe())"
   ]
  },
  {
   "cell_type": "code",
   "execution_count": null,
   "id": "818902c8-0815-41ae-8919-df6aa649b74f",
   "metadata": {},
   "outputs": [],
   "source": [
    "#Empiezo a trabajar los datos de Disney\n",
    "disney.isnull().sum()"
   ]
  },
  {
   "cell_type": "markdown",
   "id": "d5293fe4-9198-4dc7-b7bb-85ec51238a1c",
   "metadata": {},
   "source": [
    "<p>Tengo valores vacios en director, cast, country, fecha agregada y rating</p>"
   ]
  },
  {
   "cell_type": "code",
   "execution_count": null,
   "id": "4ed04758-294d-4c14-9861-0feeeb584e70",
   "metadata": {
    "scrolled": true
   },
   "outputs": [],
   "source": [
    "disney[disney.duplicated()]"
   ]
  },
  {
   "cell_type": "markdown",
   "id": "a772ba8e-947c-4994-8bf1-e3dd0a1fdbac",
   "metadata": {},
   "source": [
    "<p>No tengo peliculas duplicadas</p>"
   ]
  },
  {
   "cell_type": "markdown",
   "id": "d7b26f40-7cc5-4474-88b9-bb4454e63311",
   "metadata": {},
   "source": [
    "<p>Al analizar los datos recibia incoherencias por lo tanto decidi eliminar todas las peliculas que contengan valores nulos</p>"
   ]
  },
  {
   "cell_type": "code",
   "execution_count": null,
   "id": "20938d97-aebe-406a-b6f4-8cddb4b1dd9e",
   "metadata": {},
   "outputs": [],
   "source": [
    "contadordisney = disney.shape[0]\n",
    "disney = disney.dropna(thresh=10,axis=0)\n",
    "\n",
    "disney.shape[0]\n",
    "contadordisneynuevo = contadordisney - disney.shape[0]\n",
    "print(f'Limpie {contadordisneynuevo} peliculas con 2 valores nulos y quedaron {contadordisney} peliculas')"
   ]
  },
  {
   "cell_type": "markdown",
   "id": "66686e15-2516-44d8-ba4f-d3309a39b48b",
   "metadata": {},
   "source": [
    "<p>A modo de ejemplo, puedo eliminar las peliculas que no tienen rating porque no serian relevantes para el analisis</p>"
   ]
  },
  {
   "cell_type": "code",
   "execution_count": null,
   "id": "3403aef0-392c-41b2-af6b-5daa0547298d",
   "metadata": {},
   "outputs": [],
   "source": [
    "disney = disney.dropna(subset=['rating'])\n",
    "disney.isnull().sum()"
   ]
  },
  {
   "cell_type": "markdown",
   "id": "5ed35430-c23f-4591-8419-6664e00d7c7e",
   "metadata": {},
   "source": [
    "<h4>Netflix</h4>"
   ]
  },
  {
   "cell_type": "markdown",
   "id": "344fa0da-4a6f-4739-b1a6-dc94564f404d",
   "metadata": {},
   "source": [
    "<p>Luego de analizar los datos puedo asegurar que es exactamente lo mismo que Disney, con la diferencia de que esta separado por ; en vez de ,</p>\n",
    "<p>Por lo tanto no vale la pena describir lo que hice aca ya que fue el mismo procedimiento</p>"
   ]
  },
  {
   "cell_type": "code",
   "execution_count": null,
   "id": "12f4ddd8-d4dc-4acc-82aa-4e4b98012859",
   "metadata": {},
   "outputs": [],
   "source": [
    "netflix = pd.read_csv(\"netflix_titles.csv\", sep=\";\", on_bad_lines='warn', verbose=True)"
   ]
  },
  {
   "cell_type": "code",
   "execution_count": null,
   "id": "4bb88f45-ec58-480d-8a69-a990196088d4",
   "metadata": {
    "scrolled": true
   },
   "outputs": [],
   "source": [
    "netflix.head()"
   ]
  },
  {
   "cell_type": "code",
   "execution_count": null,
   "id": "d36e6798-811f-4c0d-a079-8c15ea30188e",
   "metadata": {},
   "outputs": [],
   "source": [
    "netflix.count()"
   ]
  },
  {
   "cell_type": "code",
   "execution_count": null,
   "id": "9422e0c9-5d9f-411d-9074-af57bb91b116",
   "metadata": {},
   "outputs": [],
   "source": [
    "print(netflix.info())"
   ]
  },
  {
   "cell_type": "code",
   "execution_count": null,
   "id": "6e790f62-fdfa-4216-ba47-752e196376bc",
   "metadata": {},
   "outputs": [],
   "source": [
    "print(netflix.describe())"
   ]
  },
  {
   "cell_type": "code",
   "execution_count": null,
   "id": "5c443b44-31e6-4340-86ee-8459928535e9",
   "metadata": {},
   "outputs": [],
   "source": [
    "netflix.isnull().sum()"
   ]
  },
  {
   "cell_type": "code",
   "execution_count": null,
   "id": "b3789199-8e12-4f91-bf63-972aab184fc9",
   "metadata": {},
   "outputs": [],
   "source": [
    "netflix[netflix.duplicated()]"
   ]
  },
  {
   "cell_type": "code",
   "execution_count": null,
   "id": "a36e53eb-748a-4128-ae21-91793c3d5907",
   "metadata": {},
   "outputs": [],
   "source": [
    "contadornetflix = netflix.shape[0]\n",
    "netflix = netflix.dropna(thresh=11,axis=0)\n",
    "\n",
    "netflix.shape[0]\n",
    "contadornetflixnuevo = contadornetflix - netflix.shape[0]\n",
    "print(f'Limpie {contadornetflixnuevo} peliculas con 2 valores nulos y quedaron {contadornetflix} peliculas')"
   ]
  },
  {
   "cell_type": "markdown",
   "id": "eb04fe73-eac7-4653-b5eb-c3ea8bd0d560",
   "metadata": {},
   "source": [
    "<h3>Analisis</h3>"
   ]
  },
  {
   "cell_type": "code",
   "execution_count": null,
   "id": "840c146b-b181-4fe4-bf93-2f2942ae0572",
   "metadata": {},
   "outputs": [],
   "source": [
    "# import matplotlib.pyplot as plt"
   ]
  },
  {
   "cell_type": "markdown",
   "id": "b36ac4c4-5441-4e17-ae9b-cf3f5ebbdf70",
   "metadata": {},
   "source": [
    "<h4>Analizo Disney+</h4>"
   ]
  },
  {
   "cell_type": "markdown",
   "id": "36deb567-026d-4e2c-9a9e-cd97f7cb1586",
   "metadata": {},
   "source": [
    "<p>Voy a imprimir que tipos de contenido hay en Disney+:</p>"
   ]
  },
  {
   "cell_type": "code",
   "execution_count": null,
   "id": "00ecd1e2-0dbd-4d54-a8c0-95fbf601ea06",
   "metadata": {
    "scrolled": true
   },
   "outputs": [],
   "source": [
    "dtype = disney[\"type\"].value_counts()\n",
    "dtype = dtype.sort_values(ascending=False)\n",
    "\n",
    "print(dtype)                                                                                                                                                                                            "
   ]
  },
  {
   "cell_type": "markdown",
   "id": "01eeeef1-b706-4d7b-a992-79b12df19137",
   "metadata": {},
   "source": [
    "<p>Con estos datos puedo crear un grafico de barras sencillo</p>"
   ]
  },
  {
   "cell_type": "code",
   "execution_count": null,
   "id": "5857645c-e505-45cf-bc71-461f1b1c8795",
   "metadata": {},
   "outputs": [],
   "source": [
    "plt.bar(dtype.index, dtype.values)\n",
    "#Nombre\n",
    "plt.title(\"Frecuencia de tipos de contenido en Disney+\")\n",
    "#Eje X = Tipo\n",
    "plt.xlabel(\"Tipo\")\n",
    "#Eje Y = Frecuencia\n",
    "plt.ylabel(\"Frecuencia\")\n",
    "\n",
    "plt.show()"
   ]
  },
  {
   "cell_type": "code",
   "execution_count": null,
   "id": "c678cadc-504f-4f60-946b-b1be3e78d5a4",
   "metadata": {},
   "outputs": [],
   "source": [
    "ddirector = disney[\"director\"].value_counts()\n",
    "ddirector = ddirector.sort_values(ascending=False)\n",
    "\n",
    "print(ddirector)"
   ]
  },
  {
   "cell_type": "code",
   "execution_count": null,
   "id": "e6412bb8-cf2a-4c0a-8c04-c116d16eaed3",
   "metadata": {},
   "outputs": [],
   "source": [
    "print(f\"El director con más trabajos es {ddirector.index[0]}, con {ddirector.values[0]} registros.\")"
   ]
  },
  {
   "cell_type": "markdown",
   "id": "d17fde9e-2fd9-4252-b994-31d855432111",
   "metadata": {},
   "source": [
    "<p>Realmente tiene poco sentido realizar este tipo de analisis para todos los datos, seria muy repetitivo, ahora voy a comparar Netflix con Disney+ y voy a imprimir algunos resultados como para sacar alguna conclusion mas adelante</p>"
   ]
  },
  {
   "cell_type": "markdown",
   "id": "2ef8e451-db4b-4919-bc91-803304430bfc",
   "metadata": {},
   "source": [
    "<h4>Analizo ambas tablas</h4>"
   ]
  },
  {
   "cell_type": "markdown",
   "id": "604a53a1-2383-40b0-af4c-949ad299ab6f",
   "metadata": {},
   "source": [
    "<p>Se me ocurrio un analizar ambas tablas, para eso voy a crear una columna extra en cada DataFrame y concatenarlas, y asi poder comparar datos de ambas plataformas</p>"
   ]
  },
  {
   "cell_type": "code",
   "execution_count": null,
   "id": "3e678eab-612d-43e7-a233-0bfd13c264d6",
   "metadata": {},
   "outputs": [],
   "source": [
    "disney['platform'] = 'Disney+'\n",
    "netflix['platform'] = 'Netflix'\n",
    "\n",
    "#Combino (concateno) ambas tablas, tengo que ignorar los indices\n",
    "plataformas = pd.concat([disney, netflix], ignore_index=True)"
   ]
  },
  {
   "cell_type": "markdown",
   "id": "c8e47209-777c-490c-9800-65ac3fd282e2",
   "metadata": {},
   "source": [
    "<p>Hacer el mismo grafico que hice arriba en matplotlib es muy complicado por la forma en la que funciona esa libreria, voy a usar otra libreria que hace lo mismo pero mas sencillo</p>"
   ]
  },
  {
   "cell_type": "code",
   "execution_count": null,
   "id": "36160232-6fb5-41be-b2ed-57853af010a6",
   "metadata": {
    "scrolled": true
   },
   "outputs": [],
   "source": [
    "# import seaborn as sns"
   ]
  },
  {
   "cell_type": "markdown",
   "id": "40928b6c-2860-4f8a-a93b-dff5fcafd0d9",
   "metadata": {},
   "source": [
    "<p>Llegado este punto tuve que revisar como habia limpiado los datos porque encontre incoherencias</p>"
   ]
  },
  {
   "cell_type": "code",
   "execution_count": null,
   "id": "48374561-65ea-4c4c-8268-67a4fe9014cc",
   "metadata": {
    "scrolled": true
   },
   "outputs": [],
   "source": [
    "# Primero genero el indice agrupando los datos por type y platform\n",
    "type_plataformas = plataformas.groupby([\"type\", \"platform\"]).size()\n",
    "# Convertir el índice de nivel platform en columnas\n",
    "type_plataformas = type_plataformas.unstack(level=\"platform\")\n",
    "\n",
    "# Genera un grafico usando las columnas como etiquetas del eje x y los valores como alturas de las barras\n",
    "type_plataformas.plot.bar()\n",
    "plt.show()"
   ]
  },
  {
   "cell_type": "code",
   "execution_count": null,
   "id": "a4dac90b-4ddb-4fcb-af04-18d16095e65f",
   "metadata": {},
   "outputs": [],
   "source": [
    "#Primero me aseguro de no tener duplicados\n",
    "directores = plataformas.drop_duplicates(subset=[\"title\", \"type\"])\n",
    "#Agrupo por director y cuento la cantidad de shows\n",
    "directores = directores.groupby(\"director\")[\"show_id\"].count()\n",
    "# Ordeno de forma ascendente y muestro los primeros 5\n",
    "top_5 = directores.sort_values(ascending=False).head(5)\n",
    "\n",
    "print(top_5)"
   ]
  },
  {
   "cell_type": "markdown",
   "id": "e64b6f20-c9b1-491b-a39e-be19e0ded31f",
   "metadata": {},
   "source": [
    "<h2>3. Modelado de datos</h2>"
   ]
  },
  {
   "cell_type": "markdown",
   "id": "847ab905-4586-41b4-bde2-e9fe4f7c40be",
   "metadata": {},
   "source": [
    "<p>Hay que tener en cuenta que para el analisis de los datos agregue una columna a cada DataFrame para poder identificar si pertenece a Netflix o Disney+, es ideal esta columna para el modelado de datos.</p>"
   ]
  },
  {
   "cell_type": "markdown",
   "id": "7f0d2c16-4954-492f-8e0a-758a70e935ab",
   "metadata": {},
   "source": [
    "<p>Para modelar esta tabla con un esquema copo de nieve seria suficiente ya que voy a usar una tabla central que seria show y siete tablas: platform, director, cast, country, rating, listed_in y type, con las claves primarias y foraneas correspondientes, a demas agregue algunos indices para optimizar el rendimiento de las consultas *ver DER adjunto*</p>"
   ]
  },
  {
   "cell_type": "code",
   "execution_count": null,
   "id": "b5fd282c-26a3-43a5-bb1b-74f9715883df",
   "metadata": {},
   "outputs": [],
   "source": [
    "# import sqlite3"
   ]
  },
  {
   "cell_type": "markdown",
   "id": "3ba97a5f-b1c4-4650-be39-35b9158d8c27",
   "metadata": {},
   "source": [
    "<h3>Creo la base de datos streaming.db</h3>"
   ]
  },
  {
   "cell_type": "code",
   "execution_count": null,
   "id": "b0149d71-e39c-46f5-903c-aeacd3f112f4",
   "metadata": {},
   "outputs": [],
   "source": [
    "base_datos = 'streaming.db'\n",
    "\n",
    "if os.path.exists(base_datos):\n",
    "    os.remove(base_datos)\n",
    "\n",
    "conn = sqlite3.connect(base_datos)\n",
    "cursor = conn.cursor()"
   ]
  },
  {
   "cell_type": "markdown",
   "id": "4186bfcd-78c6-4d24-a072-c198d8e9bb79",
   "metadata": {},
   "source": [
    "<p>Si la tabla existe la elimino para el caso de ejecutar varias veces el codigo, luego crea las tablas dentro de la base de datos</p>"
   ]
  },
  {
   "cell_type": "markdown",
   "id": "d9bf3e96-350e-4bcb-95f8-edad769db4dc",
   "metadata": {},
   "source": [
    "<h3>Creacion / comprobacion tablas SQL</h3>"
   ]
  },
  {
   "cell_type": "code",
   "execution_count": null,
   "id": "aa9ec5de-408f-42c7-8ca1-f75539e64be0",
   "metadata": {},
   "outputs": [],
   "source": [
    "eliminar_tablas = [\n",
    "    \"DROP TABLE IF EXISTS show;\",\n",
    "    \"DROP TABLE IF EXISTS platform;\",\n",
    "    \"DROP TABLE IF EXISTS showXplatform;\",\n",
    "    \"DROP TABLE IF EXISTS director;\",\n",
    "    \"DROP TABLE IF EXISTS showXdirector;\",\n",
    "    \"DROP TABLE IF EXISTS cast;\",\n",
    "    \"DROP TABLE IF EXISTS showXcast;\",\n",
    "    \"DROP TABLE IF EXISTS country;\",\n",
    "    \"DROP TABLE IF EXISTS showXcountry;\",\n",
    "    \"DROP TABLE IF EXISTS rating;\",\n",
    "    \"DROP TABLE IF EXISTS showXrating;\",\n",
    "    \"DROP TABLE IF EXISTS listed_in;\",\n",
    "    \"DROP TABLE IF EXISTS showXlisted_in;\",\n",
    "    \"DROP TABLE IF EXISTS type;\",\n",
    "    \"DROP TABLE IF EXISTS showXtype;\"\n",
    "]\n",
    "    \n",
    "for tabla_sql in eliminar_tablas:\n",
    "    cursor.execute(tabla_sql)\n",
    "\n",
    "crear_tablas = [\n",
    "    \"\"\"\n",
    "    CREATE TABLE show (\n",
    "      show_id INTEGER PRIMARY KEY,\n",
    "      title TEXT,\n",
    "      date_added TEXT,\n",
    "      duration TEXT,\n",
    "      description TEXT\n",
    "    );\n",
    "    \"\"\",\n",
    "    \"\"\"\n",
    "    CREATE TABLE platform (\n",
    "      platform_id INTEGER PRIMARY KEY,\n",
    "      platformname TEXT\n",
    "    );\n",
    "    \"\"\",\n",
    "    \"\"\"\n",
    "    CREATE TABLE showXplatform (\n",
    "      show_id INTEGER REFERENCES show(show_id),\n",
    "      platform_id INTEGER REFERENCES platform(platform_id),\n",
    "      PRIMARY KEY (show_id, platform_id)\n",
    "    );\n",
    "    \"\"\",\n",
    "    \"\"\"\n",
    "    CREATE TABLE director (\n",
    "      director_id INTEGER PRIMARY KEY,\n",
    "      tablename TEXT\n",
    "    );\n",
    "    \"\"\",\n",
    "    \"\"\"\n",
    "    CREATE TABLE showXdirector (\n",
    "      show_id INTEGER REFERENCES show(show_id),\n",
    "      director_id INTEGER REFERENCES director(director_id),\n",
    "      PRIMARY KEY (show_id, director_id)\n",
    "    );\n",
    "    \"\"\",\n",
    "    \"\"\"\n",
    "    CREATE TABLE cast (\n",
    "      cast_id INTEGER PRIMARY KEY,\n",
    "      castname TEXT\n",
    "    );\n",
    "    \"\"\",\n",
    "    \"\"\"\n",
    "    CREATE TABLE showXcast (\n",
    "      show_id INTEGER REFERENCES show(show_id),\n",
    "      cast_id INTEGER REFERENCES cast(cast_id),\n",
    "      PRIMARY KEY (show_id, cast_id)\n",
    "    );\n",
    "    \"\"\",\n",
    "    \"\"\"\n",
    "    CREATE TABLE country (\n",
    "      country_id INTEGER PRIMARY KEY,\n",
    "      countryname TEXT\n",
    "    );\n",
    "    \"\"\",\n",
    "    \"\"\"\n",
    "    CREATE TABLE showXcountry (\n",
    "      show_id INTEGER REFERENCES show(show_id),\n",
    "      country_id INTEGER REFERENCES country(country_id),\n",
    "      PRIMARY KEY (show_id, country_id)\n",
    "    );\n",
    "    \"\"\",\n",
    "    \"\"\"\n",
    "    CREATE TABLE rating (\n",
    "      rating_id INTEGER PRIMARY KEY,\n",
    "      ratingname TEXT\n",
    "    );\n",
    "    \"\"\",\n",
    "    \"\"\"\n",
    "    CREATE TABLE showXrating (\n",
    "      show_id INTEGER REFERENCES show(show_id),\n",
    "      rating_id INTEGER REFERENCES ratingr(rating_id),\n",
    "      PRIMARY KEY (show_id, rating_id)\n",
    "    );\n",
    "    \"\"\",\n",
    "    \"\"\"\n",
    "    CREATE TABLE listed_in (\n",
    "      listed_in_id INTEGER PRIMARY KEY,\n",
    "      listed_inname TEXT\n",
    "    );\n",
    "    \"\"\",\n",
    "    \"\"\"\n",
    "    CREATE TABLE showXlisted_in (\n",
    "      show_id INTEGER REFERENCES show(show_id),\n",
    "      listed_in_id INTEGER REFERENCES listed_in(listed_in_id),\n",
    "      PRIMARY KEY (show_id, listed_in_id)\n",
    "    );\n",
    "    \"\"\",\n",
    "    \"\"\"\n",
    "    CREATE TABLE type (\n",
    "      type_id INTEGER PRIMARY KEY,\n",
    "      typename TEXT\n",
    "    );\n",
    "    \"\"\",\n",
    "    \"\"\"\n",
    "    CREATE TABLE showXtype (\n",
    "      show_id INTEGER REFERENCES show(show_id),\n",
    "      type_id INTEGER REFERENCES type(type_id),\n",
    "      PRIMARY KEY (show_id, type_id)\n",
    "    );\n",
    "    \"\"\"\n",
    "]\n",
    "\n",
    "for table_sql in crear_tablas:\n",
    "    cursor.execute(table_sql)\n",
    "\n",
    "conn.commit()"
   ]
  },
  {
   "cell_type": "markdown",
   "id": "5483f712-650a-4c04-985b-4e55715d43f5",
   "metadata": {},
   "source": [
    "<h3>Carga de datos</h3>"
   ]
  },
  {
   "cell_type": "markdown",
   "id": "819f78e0-9246-4894-8561-ec6be872533b",
   "metadata": {},
   "source": [
    "<p>No hay drama con cargar directamente estos datos</p>"
   ]
  },
  {
   "cell_type": "code",
   "execution_count": null,
   "id": "f403ff05-c08b-41bc-b5e3-5e65305a08f6",
   "metadata": {},
   "outputs": [],
   "source": [
    "plataformas.head()"
   ]
  },
  {
   "cell_type": "code",
   "execution_count": null,
   "id": "e69104e4-9350-41b6-9447-ba5f3ad230a2",
   "metadata": {},
   "outputs": [],
   "source": [
    "plataformas.to_sql ('show', conn, index=False, if_exists='replace')\n",
    "plataformas.to_sql ('platform', conn, index=False, if_exists='replace')\n",
    "plataformas.to_sql ('showXplatform', conn, index=False, if_exists='replace')\n",
    "plataformas.to_sql ('showXdirector', conn, index=False, if_exists='replace')\n",
    "plataformas.to_sql ('showXcast', conn, index=False, if_exists='replace')\n",
    "\n",
    "plataformas.to_sql ('showXcountry', conn, index=False, if_exists='replace')\n",
    "plataformas.to_sql ('rating', conn, index=False, if_exists='replace')\n",
    "plataformas.to_sql ('showXrating', conn, index=False, if_exists='replace')\n",
    "plataformas.to_sql ('showXlisted_in', conn, index=False, if_exists='replace')\n",
    "plataformas.to_sql ('type', conn, index=False, if_exists='replace')\n",
    "plataformas.to_sql ('showXtype', conn, index=False, if_exists='replace')"
   ]
  },
  {
   "cell_type": "markdown",
   "id": "e2de8ded-7b59-421f-9694-080b8663c528",
   "metadata": {},
   "source": [
    "<p>Ahora restaria cargar los datos, para esto voy a tener que manipular primero el dataframe plataformas de forma conveniente para despues recorrer con un diccionario la carga de datos</p>"
   ]
  },
  {
   "cell_type": "markdown",
   "id": "45947758-266e-4020-85ef-b2fa8bcd799e",
   "metadata": {},
   "source": [
    "<p>Una vez manipulados los dataframes de forma conveniente para esta parte, con un diccionario los recorro y de cargo los datos</p>"
   ]
  },
  {
   "cell_type": "code",
   "execution_count": null,
   "id": "ac5e2640-ace6-4131-b7ff-69e98525e994",
   "metadata": {},
   "outputs": [],
   "source": [
    "plataformas.to_sql ('director', conn, index=False, if_exists='replace')"
   ]
  },
  {
   "cell_type": "code",
   "execution_count": null,
   "id": "a059578a-d117-4ea9-adc3-d7315eaa6786",
   "metadata": {},
   "outputs": [],
   "source": [
    "plataformas.to_sql ('cast', conn, index=False, if_exists='replace')"
   ]
  },
  {
   "cell_type": "code",
   "execution_count": null,
   "id": "b51e2224-1af0-4da3-8e54-d8bc9a11289c",
   "metadata": {},
   "outputs": [],
   "source": [
    "plataformas.to_sql ('listed_in', conn, index=False, if_exists='replace')"
   ]
  },
  {
   "cell_type": "code",
   "execution_count": null,
   "id": "42e24532-d145-433a-9da0-afcc2416a838",
   "metadata": {},
   "outputs": [],
   "source": [
    "plataformas.to_sql ('country', conn, index=False, if_exists='replace')"
   ]
  },
  {
   "cell_type": "markdown",
   "id": "aa8cc337-dafc-4ad9-8dab-87f8c1d327f5",
   "metadata": {},
   "source": [
    "<h3>#Ej de como podria normalizar estas tablas:</h3>"
   ]
  },
  {
   "cell_type": "code",
   "execution_count": null,
   "id": "9ef2e0c6-91d5-41a1-8451-8fe75be4827d",
   "metadata": {
    "scrolled": true
   },
   "outputs": [],
   "source": [
    "df_director = plataformas[\"director\"]\n",
    "df_director.head()"
   ]
  },
  {
   "cell_type": "code",
   "execution_count": null,
   "id": "eb16cfe8-b883-489b-9c74-ed4ff0e486cf",
   "metadata": {},
   "outputs": [],
   "source": [
    "df_director = df_director.explode()\n",
    "df_director.head()"
   ]
  },
  {
   "cell_type": "code",
   "execution_count": null,
   "id": "c0a57158-ccea-4ffb-973d-33fc37dea2bd",
   "metadata": {},
   "outputs": [],
   "source": [
    "conn.commit()\n",
    "conn.close()"
   ]
  },
  {
   "cell_type": "markdown",
   "id": "f9d2552e-e283-4da6-9b2c-4d6a0d2a82ce",
   "metadata": {},
   "source": [
    "<p>Al terminar, cierro la base de datos. Esta lista la parte funcional del programa</p>\n",
    "<p>Lo unico que no me gusta de la base de datos es que si por ejemplo imprimo los directores, todavia quedaron listas adentro, no me va a dar el tiempo para arreglar esos fallos en la normalizacion</p>"
   ]
  },
  {
   "cell_type": "code",
   "execution_count": null,
   "id": "36878814-cc05-4d1d-93a5-554d24a52353",
   "metadata": {},
   "outputs": [],
   "source": [
    "plataformas.head()"
   ]
  },
  {
   "cell_type": "code",
   "execution_count": null,
   "id": "24ea3a45-fdc8-42d2-b394-b1aae070404f",
   "metadata": {},
   "outputs": [],
   "source": [
    "#pd.read_sql('SELECT * FROM showXdirector', conn)"
   ]
  },
  {
   "cell_type": "markdown",
   "id": "d4edfd5c-b562-4398-885b-ba667ae42cce",
   "metadata": {},
   "source": [
    "<h2>4. SQL</h2>"
   ]
  },
  {
   "cell_type": "markdown",
   "id": "f9e8ef6b-f260-40c1-aa2d-5a573edca3a8",
   "metadata": {},
   "source": [
    "<p>Abro la base de datos para hacer las consultas</p>"
   ]
  },
  {
   "cell_type": "code",
   "execution_count": null,
   "id": "05c2e530-6ed4-4198-8a75-adc4cf584013",
   "metadata": {},
   "outputs": [],
   "source": [
    "conn = sqlite3.connect(base_datos)\n",
    "cursor = conn.cursor()"
   ]
  },
  {
   "cell_type": "markdown",
   "id": "0dc2c001-f61d-4fc8-8b16-3c9d151bd6f6",
   "metadata": {},
   "source": [
    "<p>Las consultas las podria hacer con pandas</p>"
   ]
  },
  {
   "cell_type": "code",
   "execution_count": null,
   "id": "0a7c5f23-f01f-48d8-bedd-750c53597384",
   "metadata": {},
   "outputs": [],
   "source": []
  },
  {
   "cell_type": "markdown",
   "id": "6c12c48b-4b82-4ad4-bf43-1f0c351d6ddc",
   "metadata": {},
   "source": [
    "<p>o desde la interfaz grafica ya que para las pruebas fui mirando con DBeaver</p>"
   ]
  },
  {
   "cell_type": "markdown",
   "id": "7eef7732-bce7-45a5-845c-20d9038037e2",
   "metadata": {},
   "source": [
    "<img src='fotos/Dbeaver.png'>"
   ]
  },
  {
   "cell_type": "markdown",
   "id": "38b05105-3db0-4549-baf4-d5396d2a2d91",
   "metadata": {},
   "source": [
    "<p>1. Considerando únicamente la plataforma de Netflix, ¿qué actor aparece\n",
    "más veces? </p>"
   ]
  },
  {
   "cell_type": "code",
   "execution_count": null,
   "id": "2b782891-3afe-499d-b7a4-45a881dc9957",
   "metadata": {},
   "outputs": [],
   "source": [
    "query_drop_show_cast_view = \"DROP VIEW IF EXISTS show_cast;\"\n",
    "conn.execute(query_drop_show_cast_view)\n",
    "\n",
    "query_create_show_cast_view = f\"\"\"\n",
    "CREATE VIEW show_cast AS\n",
    "SELECT s.show_id, s.title, c.cast AS actor_name\n",
    "FROM show AS s\n",
    "JOIN showXcast AS sc ON s.show_id = sc.show_id\n",
    "JOIN cast AS c ON sc.cast_id = c.cast_id;\n",
    "\"\"\"\n",
    "\n",
    "conn.execute(query_create_show_cast_view)\n"
   ]
  },
  {
   "cell_type": "code",
   "execution_count": null,
   "id": "f6843eda-9162-43a5-af0b-2b3f5d8dbbcf",
   "metadata": {},
   "outputs": [],
   "source": [
    "query_drop_actor_appearances_view = \"DROP VIEW IF EXISTS actor_appearances;\"\n",
    "conn.execute(query_drop_actor_appearances_view)\n",
    "\n",
    "query_create_actor_appearances_view = f\"\"\"\n",
    "CREATE VIEW actor_appearances AS\n",
    "SELECT actor_name, COUNT(show_id) AS appearances\n",
    "FROM show_cast\n",
    "GROUP BY actor_name;\n",
    "\"\"\"\n",
    "\n",
    "conn.execute(query_create_actor_appearances_view)"
   ]
  },
  {
   "cell_type": "code",
   "execution_count": null,
   "id": "01b751a1-6e2e-407a-ac2e-211a7fa8b5da",
   "metadata": {},
   "outputs": [],
   "source": [
    "\n",
    "query_find_most_appeared_actor = f\"\"\"\n",
    "SELECT actor_name, appearances\n",
    "FROM actor_appearances\n",
    "WHERE appearances = (SELECT MAX(appearances) FROM actor_appearances);\n",
    "\"\"\"\n",
    "\n",
    "result = pd.read_sql(query_find_most_appeared_actor, conn)"
   ]
  },
  {
   "cell_type": "markdown",
   "id": "1d4b01df-a168-4bb7-a2d7-5d668840359c",
   "metadata": {},
   "source": [
    "\n",
    "#  función para convertir el formato de la columna date_added a un tipo de dato compatible con sqlite\n",
    "def convert_date(date):\n",
    "  # Si la fecha es nula, devolvemos None\n",
    "  if date is None:\n",
    "    return None\n",
    "  # Si la fecha tiene el formato Mes Dia, Año, la convertimos a Año-Mes-Dia\n",
    "  elif len(date.split()) == 3:\n",
    "    month, day, year = date.split()\n",
    "    month = month[:-1] # Eliminamos la coma del mes\n",
    "    # Creamos un diccionario con los nombres de los meses en inglés y sus números correspondientes\n",
    "    months = {'January': '01', 'February': '02', 'March': '03', 'April': '04', 'May': '05', 'June': '06', 'July': '07', 'August': '08', 'September': '09', 'October': '10', 'November': '11', 'December': '12'}\n",
    "    # Devolvemos la fecha en el formato Año-Mes-Dia\n",
    "    return f'{year}-{months[month]}-{day}'\n",
    "  # Si la fecha tiene otro formato, la devolvemos tal cual\n",
    "  else:\n",
    "    return date\n",
    "\n",
    "# Creamos una función para separar la lista de valores por cada celda y devolver una lista de tuplas\n",
    "def split_list(values):\n",
    "  # Si los valores son nulos, devolvemos una lista vacía\n",
    "  if values is None:\n",
    "    return []\n",
    "  # Si los valores son una cadena, la separamos por comas y eliminamos los espacios en blanco\n",
    "  elif isinstance(values, str):\n",
    "    values = values.split(',')\n",
    "    values = [value.strip() for value in values]\n",
    "  # Si los valores son una lista, los dejamos tal cual\n",
    "  elif isinstance(values, list):\n",
    "    pass\n",
    "  # Creamos una lista de tuplas con los valores y sus índices\n",
    "  tuples = [(i+1, value) for i, value in enumerate(values)]\n",
    "  # Devolvemos la lista de tuplas\n",
    "  return tuples\n",
    "\n",
    "# Obtenemos los datos de nuestro dataframe plataformas\n",
    "data = plataformas.to_dict('records')\n",
    "\n",
    "# Recorremos cada fila de los datos\n",
    "for row in data:\n",
    "  # Obtenemos los valores de cada columna\n",
    "  show_id = row['show_id']\n",
    "  type = row['type']\n",
    "  title = row['title']\n",
    "  director = row['director']\n",
    "  cast = row['cast']\n",
    "  country = row['country']\n",
    "  date_added = row['date_added']\n",
    "  release_year = row['release_year']\n",
    "  rating = row['rating']\n",
    "  duration = row['duration']\n",
    "  listed_in = row['listed_in']\n",
    "  description = row['description']\n",
    "  platform = row['platform']\n",
    "\n",
    "  # Convertimos el formato de la columna date_added\n",
    "  date_added = convert_date(date_added)\n",
    "\n",
    "  # Separamos la lista de directores, actores, países y géneros\n",
    "  director = split_list(director)\n",
    "  cast = split_list(cast)\n",
    "  country = split_list(country)\n",
    "  listed_in = split_list(listed_in)\n"
   ]
  },
  {
   "cell_type": "markdown",
   "id": "4e9b4888-6ccb-47cd-8ac7-26f7bfb79f3c",
   "metadata": {},
   "source": [
    "<p>Finalmente, cierro la base de datos para liberar recursos</p>"
   ]
  },
  {
   "cell_type": "code",
   "execution_count": null,
   "id": "6cae4fe6-bc26-4017-b3de-4d4bc9ee9d44",
   "metadata": {},
   "outputs": [],
   "source": [
    "conn.close()"
   ]
  }
 ],
 "metadata": {
  "kernelspec": {
   "display_name": "Python 3 (ipykernel)",
   "language": "python",
   "name": "python3"
  },
  "language_info": {
   "codemirror_mode": {
    "name": "ipython",
    "version": 3
   },
   "file_extension": ".py",
   "mimetype": "text/x-python",
   "name": "python",
   "nbconvert_exporter": "python",
   "pygments_lexer": "ipython3",
   "version": "3.11.5"
  }
 },
 "nbformat": 4,
 "nbformat_minor": 5
}
